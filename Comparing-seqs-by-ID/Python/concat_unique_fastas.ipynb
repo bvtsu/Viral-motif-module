{
 "metadata": {
  "language_info": {
   "codemirror_mode": {
    "name": "ipython",
    "version": 3
   },
   "file_extension": ".py",
   "mimetype": "text/x-python",
   "name": "python",
   "nbconvert_exporter": "python",
   "pygments_lexer": "ipython3",
   "version": "3.9.2-final"
  },
  "orig_nbformat": 2,
  "kernelspec": {
   "name": "python3",
   "display_name": "Python 3",
   "language": "python"
  }
 },
 "nbformat": 4,
 "nbformat_minor": 2,
 "cells": [
  {
   "source": [
    "import os #for os.mkdir\n",
    "try: #Try to make output folder, if it doesn't already exist\n",
    "    os.mkdir(\"outputs/\")\n",
    "except: #If it does exist, print this next line\n",
    "    print(\"Creation of the directory failed, maybe it already exists.\")\n",
    "genbank_fasta=\"../Examples/genbank-kobu.fasta\" #'/path/to/genbank_fasta_file'\n",
    "vipr_fasta=\"../Examples/vipr-kobu.fasta\" #'/path/to/vipr_fasta_file'"
   ],
   "cell_type": "code",
   "metadata": {},
   "execution_count": 1,
   "outputs": [
    {
     "output_type": "stream",
     "name": "stdout",
     "text": [
      "Creation of the directory failed, maybe it already exists.\n"
     ]
    }
   ]
  },
  {
   "cell_type": "code",
   "execution_count": 2,
   "metadata": {
    "tags": []
   },
   "outputs": [
    {
     "output_type": "stream",
     "name": "stdout",
     "text": [
      "Concat file should be closed now\n"
     ]
    }
   ],
   "source": [
    "with open(\"concat_file.txt\",\"w\") as nfile:\n",
    "    with open(genbank_fasta) as gfile: #open the fasta formatted file\n",
    "        for line in gfile: #go line by line\n",
    "            if line.startswith(\">\"): #these \">\" lines are the header info\n",
    "                nfile.write(\">{0}\\n\".format(line[1:].split('.')[0])) #line[1:].split('.')[0]+\"\\n\" is the same\n",
    "            else:\n",
    "                nfile.write(line)#.strip())\n",
    "\n",
    "    with open(vipr_fasta) as vfile: #open the fasta formatted file\n",
    "        for line in vfile: #go line by line\n",
    "            if line.startswith(\">\"): #these \">\" lines are the header info\n",
    "                nfile.write(\">{0}\\n\".format(line[4:].split('|')[0])) #\">\"+line[1:].split('.')[0]+\"\\n\" is the same\n",
    "            else:\n",
    "                nfile.write(line)#.strip())\n",
    "print(\"Concat file should be closed now\")\n",
    "\n"
   ]
  },
  {
   "cell_type": "code",
   "execution_count": 20,
   "metadata": {
    "tags": []
   },
   "outputs": [],
   "source": [
    "#Let's do this ourselves with dictionaries\n",
    "fasta = {}\n",
    "with open(\"concat_file.txt\") as cfile: #open the fasta formatted file\n",
    "    for line in cfile: #go line by line\n",
    "        line = line.strip() #take away the whitespace\n",
    "        if not line: #if it's a blank line,\n",
    "            continue #go to the next line\n",
    "        if line.startswith(\">\"): #these \">\" lines are the header info\n",
    "            seq_header = line[1:]\n",
    "            if seq_header not in fasta:\n",
    "                fasta[seq_header] = []\n",
    "            continue #go to the next line, which should be the fasta seq\n",
    "        seq = line #store the entire line as a string variable\n",
    "        fasta[seq_header].append(seq) #associate the header (key) with the seq (value)\n",
    "for key, value in fasta.items(): #take the key, value pair\n",
    "    fasta[key]=''.join(value) #overwrite the existing list of broken up fasta seqs with a concatenated form, easier to write to file later\n",
    "#Return the fasta dict\n",
    "\n",
    "with open(\"fasta_file.txt\", 'w') as f:\n",
    "    #wrap=80 #See last two lines\n",
    "    for gid,gseq in fasta.items():\n",
    "        f.write('>{}\\n'.format(gid))\n",
    "        f.write('{}\\n'.format(gseq)) #Sufficient for a fasta file\n",
    "        #for i in range(0, len(gseq), wrap): #For cool wrapped fasta format\n",
    "        #    f.write('{}\\n'.format(gseq[i:i + wrap]))"
   ]
  },
  {
   "cell_type": "code",
   "execution_count": 12,
   "metadata": {
    "tags": []
   },
   "outputs": [],
   "source": [
    "#You could just steal someone else's tools to make this happen though\n",
    "from Bio import SeqIO\n",
    "with open(\"unique_concat.txt\",\"w\") as ufile:\n",
    "    unique_list=[]\n",
    "    for records in SeqIO.parse(\"concat_file.txt\",\"fasta\"):\n",
    "        if records.id not in unique_list:\n",
    "            unique_list.append(records.id)\n",
    "            SeqIO.write(records,ufile,\"fasta\")\n",
    "        #if line.startswith(\">\"): #these \">\" lines are the header info\n",
    "        #    seq_header = line[1:] #start from the second character, and save up to the first \".\"\n",
    "        #else:\n",
    "        #    fasta=line\n",
    "        #if seq_header not in unique_list:\n",
    "        #    unique_list.append(seq_header) #Add the ID we just extracted to the list\n",
    "            \n"
   ]
  },
  {
   "cell_type": "code",
   "execution_count": null,
   "metadata": {},
   "outputs": [],
   "source": []
  }
 ]
}