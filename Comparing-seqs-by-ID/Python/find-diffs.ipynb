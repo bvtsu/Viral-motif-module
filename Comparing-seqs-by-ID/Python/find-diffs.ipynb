{
 "metadata": {
  "language_info": {
   "codemirror_mode": {
    "name": "ipython",
    "version": 3
   },
   "file_extension": ".py",
   "mimetype": "text/x-python",
   "name": "python",
   "nbconvert_exporter": "python",
   "pygments_lexer": "ipython3",
   "version": "3.9.2-final"
  },
  "orig_nbformat": 2,
  "kernelspec": {
   "name": "python3",
   "display_name": "Python 3.9.2 64-bit ('main': conda)",
   "metadata": {
    "interpreter": {
     "hash": "dcb59022b3087ca075aed3a0cc0bf99a350c5534d3156889d20a7003f9e1b56b"
    }
   }
  }
 },
 "nbformat": 4,
 "nbformat_minor": 2,
 "cells": [
  {
   "source": [
    "We want to determine similarities and differences between the viral seqs we can get from GenBank and ViPR.\n",
    "\n",
    "First, let's create an output folder where we will store the data we generate from this notebook. To do this, we'll import the pre-packaged os module, so that we can use the function os.mkdir(\"/path/to/directory\")."
   ],
   "cell_type": "markdown",
   "metadata": {}
  },
  {
   "cell_type": "code",
   "execution_count": 1,
   "metadata": {},
   "outputs": [
    {
     "output_type": "stream",
     "name": "stdout",
     "text": [
      "Creation of the directory failed, maybe it already exists.\n"
     ]
    }
   ],
   "source": [
    "import os #for os.mkdir\n",
    "try: #Try to make output folder, if it doesn't already exist\n",
    "    os.mkdir(\"outputs/\")\n",
    "except: #If it does exist, print this next line\n",
    "    print(\"Creation of the directory failed, maybe it already exists.\")"
   ]
  },
  {
   "source": [
    "Now, store the location of your downloaded fasta files to their corresponding variables below inside the quotation marks, to designate that the information is a \"string\" type."
   ],
   "cell_type": "markdown",
   "metadata": {}
  },
  {
   "cell_type": "code",
   "execution_count": 2,
   "metadata": {},
   "outputs": [],
   "source": [
    "genbank_fasta=\"../Examples/genbank-kobu.fasta\" #'/path/to/genbank_fasta_file'\n",
    "vipr_fasta=\"../Examples/vipr-kobu.fasta\" #'/path/to/vipr_fasta_file'"
   ]
  },
  {
   "source": [
    "We are now going to extract IDs from the fasta header. Let's start with our genbank_fasta and use the command open() to open the file, and then go line-by-line in a for-loop to take only the IDs and save them to a list."
   ],
   "cell_type": "markdown",
   "metadata": {}
  },
  {
   "cell_type": "code",
   "execution_count": 3,
   "metadata": {},
   "outputs": [],
   "source": [
    "genbank_ID_list = [] #Create blank list\n",
    "with open(genbank_fasta) as file: #open the fasta formatted file\n",
    "    for line in file: #go line by line\n",
    "        line = line.strip() #take away the whitespace\n",
    "        if not line: #if it's a blank line,\n",
    "            continue #go to the next line\n",
    "        if line.startswith(\">\"): #these \">\" lines are the header info\n",
    "            seq_header = line[1:].split('.')[0] #start from the second character, and save up to the first \".\"\n",
    "            genbank_ID_list.append(seq_header) #Add the ID we just extracted to the list"
   ]
  },
  {
   "cell_type": "code",
   "execution_count": 4,
   "metadata": {},
   "outputs": [
    {
     "output_type": "stream",
     "name": "stdout",
     "text": [
      "12\n"
     ]
    }
   ],
   "source": [
    "print(len(genbank_ID_list[0]))"
   ]
  },
  {
   "cell_type": "code",
   "execution_count": 5,
   "metadata": {},
   "outputs": [
    {
     "output_type": "error",
     "ename": "NameError",
     "evalue": "name 'test_list' is not defined",
     "traceback": [
      "\u001b[0;31m---------------------------------------------------------------------------\u001b[0m",
      "\u001b[0;31mNameError\u001b[0m                                 Traceback (most recent call last)",
      "\u001b[0;32m<ipython-input-5-e7d6c09dc4e2>\u001b[0m in \u001b[0;36m<module>\u001b[0;34m\u001b[0m\n\u001b[0;32m----> 1\u001b[0;31m \u001b[0mprint\u001b[0m\u001b[0;34m(\u001b[0m\u001b[0mtest_list\u001b[0m\u001b[0;34m[\u001b[0m\u001b[0;36m0\u001b[0m\u001b[0;34m]\u001b[0m\u001b[0;34m[\u001b[0m\u001b[0;36m0\u001b[0m\u001b[0;34m]\u001b[0m\u001b[0;34m)\u001b[0m\u001b[0;34m\u001b[0m\u001b[0;34m\u001b[0m\u001b[0m\n\u001b[0m",
      "\u001b[0;31mNameError\u001b[0m: name 'test_list' is not defined"
     ]
    }
   ],
   "source": [
    "print(test_list[0][0]) "
   ]
  },
  {
   "source": [
    "We're going to quickly check what the first few elements in this list look like to make sure everything is running correctly."
   ],
   "cell_type": "markdown",
   "metadata": {}
  },
  {
   "cell_type": "code",
   "execution_count": 6,
   "metadata": {},
   "outputs": [
    {
     "output_type": "stream",
     "name": "stdout",
     "text": [
      "['YP_002456506', 'ACI95948', 'AWB14573', 'AJT57879']\n"
     ]
    }
   ],
   "source": [
    "print(genbank_ID_list[0:4]) #Print only elements 0, 1, 2, 3 from genbank_ID_list"
   ]
  },
  {
   "source": [
    "Confirming that the IDs seem correct, fill in the following box to do the same for the vipr fasta file:"
   ],
   "cell_type": "markdown",
   "metadata": {}
  },
  {
   "cell_type": "code",
   "execution_count": 7,
   "metadata": {},
   "outputs": [],
   "source": [
    "vipr_ID_list = [] #Create blank list\n",
    "with open(vipr_fasta) as file: #open the fasta formatted file\n",
    "    for line in file: #go line by line\n",
    "        line = line.strip() #take away the whitespace\n",
    "        if not line: #if it's a blank line,\n",
    "            continue #go to the next line\n",
    "        if line.startswith(\">\"): #these \">\" lines are the header info\n",
    "            #seq_header = line[1:].split('|')[0].split(':')[1] #start from the second character, and save up to the first \".\"\n",
    "            #seq_header = line[1:].split(':')[1].split('|')[0]\n",
    "            seq_header = line[4:].split('|')[0]\n",
    "            vipr_ID_list.append(seq_header) #Add the ID we just extracted to the list\n",
    "#in\n",
    "#the\n",
    "#rest\n",
    "#to\n",
    "#generate\n",
    "#ID\n",
    "#list"
   ]
  },
  {
   "cell_type": "code",
   "execution_count": 8,
   "metadata": {},
   "outputs": [
    {
     "output_type": "stream",
     "name": "stdout",
     "text": [
      "['BAA31356', 'AAV28657', 'ACX33797', 'ADN52304', 'ADN52312', 'ADN52311', 'ADN52306', 'ADN52305', 'AAY46271', 'AFV70595', 'BAB62889', 'AWF79099', 'QEA08638', 'AWK02691', 'BAC23066', 'AIF74251', 'AIF74258', 'APY16382', 'AZZ70013', 'QHA24623', 'ALM04213', 'AXY87954', 'AXE75324', 'AZS64123', 'AZS64124', 'AZS64125', 'QIE07158', 'ARW71933', 'AHK60486', 'AJP67529', 'AJP67528', 'AJP67530', 'AJP67527', 'AGH29114', 'AGC36402', 'AEO19724', 'AHH02469', 'QOW08372', 'QKI30369', 'AIN37087', 'AYM46576', 'AYM46575', 'AIS22688', 'AHL67639', 'QEV86990', 'QEV86991', 'ASS36975', 'AGU62946', 'QJF11790', 'BAS53432', 'BAS53431', 'AEL19656', 'ADB45876', 'AFR11851', 'ADG03747', 'AVH76468', 'AIK67137', 'AVX29483', 'AEM05831', 'AHF72574', 'AHY02128', 'AFS41248', 'AFX69272', 'AJW76498', 'AVE15813', 'AVE15814', 'AVE15815', 'AVE15816', 'AVE15817', 'QJW71472', 'AGY52598', 'AGY52599', 'ARS29593', 'ARS29603', 'ARS29602', 'ARS29601', 'ARS29598', 'ARS29597', 'ARS29610', 'ARS29594', 'ARS29609', 'ARS29608', 'ARS29607', 'ARS29605', 'AKE50573', 'ARJ58625', 'ARJ58626', 'ARM37713', 'AGY52597', 'QGH59209', 'QGH59201', 'QGH59213', 'QGH59207', 'QGH59208', 'QGH59212', 'QGH59210', 'QGH59204', 'QGH59202', 'QGH59205', 'QGH59211', 'QGH59214', 'QGH59217', 'QGH59215', 'QGH59203', 'QGH59206', 'AWF79081', 'AJO69919', 'SNQ28043', 'BAX64116', 'BAX64117', 'BAX64118', 'BAX64119', 'BAX64120', 'BAX64121', 'BAX64122', 'BAX64123', 'BAX64125', 'BAX64126', 'BAX64127', 'BAX64128', 'BAX64139', 'BAX64129', 'BAX64130', 'BAX64131', 'BAX64132', 'BAX64133', 'BAX64134', 'BAX64135', 'BAX64136', 'BAX64137', 'BAX64138', 'QQV74433', 'QQV74430', 'QQV74431', 'QQV74432', 'AHA61455', 'QIK01740', 'AFP28805', 'AFK24448', 'AGG20313', 'AJT57879', 'AEY76083', 'ADB12474', 'ACI95948', 'BAK18897', 'ALO65139']\n"
     ]
    }
   ],
   "source": [
    "#Use this space to test code or preview the finalized vipr_fasta\n",
    "print(vipr_ID_list)"
   ]
  },
  {
   "source": [
    "Now that we have two ID lists, let's finally compare them for overlaps and differences."
   ],
   "cell_type": "markdown",
   "metadata": {}
  },
  {
   "cell_type": "code",
   "execution_count": 9,
   "metadata": {},
   "outputs": [],
   "source": [
    "#we use set() here because it is a structure that ensures dupes don't exist.\n",
    "#Dupes prevent use of these simplistic subtraction and ampersand operations.\n",
    "#After we subtract using the easier-to-manipulate set() structures, we can stuff them back into a list using list()\n",
    "\n",
    "#put the remaining genbank IDs in list format after subtracting vipr ids\n",
    "unique_to_genbank = list(set(genbank_ID_list) - set(vipr_ID_list))\n",
    "\n",
    "#put the remaining vipr IDs in list format after subtracting genbank ids\n",
    "unique_to_vipr = list(set(vipr_ID_list) - set(genbank_ID_list))\n",
    "\n",
    "#put common elements in list format\n",
    "shared = list(set(vipr_ID_list) & set(genbank_ID_list))"
   ]
  },
  {
   "source": [
    "Now let's save the files as text files. This is just to hone in on the idea that you can export the data you create here."
   ],
   "cell_type": "markdown",
   "metadata": {}
  },
  {
   "cell_type": "code",
   "execution_count": 10,
   "metadata": {},
   "outputs": [],
   "source": [
    "genbank_output_name=\"genbank_output\" #set your output name inbetween the quotations\n",
    "\n",
    "#open a new, writeable (\"w\") text file as the variable f\n",
    "#the {0} is where your genbank_output_name will be inserted, so your named file will save within the outputs/ folder\n",
    "with open(\"outputs/{0}.txt\".format(genbank_output_name), \"w\") as f: \n",
    "    for element in unique_to_genbank: #loop through each element in the unique genbank ID list\n",
    "        f.write(\"{}\\n\".format(element)) #use .write() to write the current element to the file designated f"
   ]
  },
  {
   "source": [
    "Now, try creating textfiles for the unique_to_vipr and shared lists."
   ],
   "cell_type": "markdown",
   "metadata": {}
  },
  {
   "cell_type": "code",
   "execution_count": 11,
   "metadata": {},
   "outputs": [],
   "source": [
    "vipr_output_name=\"vipr_output\" #set your output name inbetween the quotations\n",
    "with open(\"outputs/{0}.txt\".format(vipr_output_name), \"w\") as f: \n",
    "    for element in unique_to_vipr: #loop through each element in the unique genbank ID list\n",
    "        f.write(\"{}\\n\".format(element)) #use .write() to write the current element to the file designated f\n",
    "#Fill \n",
    "#in\n",
    "#the\n",
    "#rest\n",
    "#to\n",
    "#generate\n",
    "#textfile"
   ]
  },
  {
   "cell_type": "code",
   "execution_count": 12,
   "metadata": {},
   "outputs": [],
   "source": [
    "shared_output_name=\"shared_output\" #set your output name inbetween the quotations\n",
    "with open(\"outputs/{0}.txt\".format(shared_output_name), \"w\") as f: \n",
    "    for element in shared: #loop through each element in the unique genbank ID list\n",
    "        f.write(\"{}\\n\".format(element)) #use .write() to write the current element to the file designated f\n",
    "#Fill\n",
    "#in\n",
    "#the\n",
    "#rest\n",
    "#to\n",
    "#generate\n",
    "#textfiles"
   ]
  },
  {
   "source": [
    "For the finishing touches, let's visualize the data. We'll use a more readable, histograph version of venn diagrams, the upsetplot. Then we will use matplotlib's pyplot() function to actually display the plot in the Jupyter notebook cell.\n",
    "\n",
    "To install upsetplot, open your terminal window and paste/execute the following line of code:\n",
    "```conda install -c conda-forge upsetplot```\n",
    "\n",
    "Documentation here: https://pypi.org/project/UpSetPlot/\n"
   ],
   "cell_type": "markdown",
   "metadata": {}
  },
  {
   "cell_type": "code",
   "execution_count": 15,
   "metadata": {},
   "outputs": [
    {
     "output_type": "display_data",
     "data": {
      "text/plain": "<Figure size 213.375x256 with 4 Axes>",
      "image/svg+xml": "<?xml version=\"1.0\" encoding=\"utf-8\" standalone=\"no\"?>\n<!DOCTYPE svg PUBLIC \"-//W3C//DTD SVG 1.1//EN\"\n  \"http://www.w3.org/Graphics/SVG/1.1/DTD/svg11.dtd\">\n<!-- Created with matplotlib (https://matplotlib.org/) -->\n<svg height=\"249.958125pt\" version=\"1.1\" viewBox=\"0 0 179.765625 249.958125\" width=\"179.765625pt\" xmlns=\"http://www.w3.org/2000/svg\" xmlns:xlink=\"http://www.w3.org/1999/xlink\">\n <metadata>\n  <rdf:RDF xmlns:cc=\"http://creativecommons.org/ns#\" xmlns:dc=\"http://purl.org/dc/elements/1.1/\" xmlns:rdf=\"http://www.w3.org/1999/02/22-rdf-syntax-ns#\">\n   <cc:Work>\n    <dc:type rdf:resource=\"http://purl.org/dc/dcmitype/StillImage\"/>\n    <dc:date>2021-03-09T20:08:38.485166</dc:date>\n    <dc:format>image/svg+xml</dc:format>\n    <dc:creator>\n     <cc:Agent>\n      <dc:title>Matplotlib v3.3.4, https://matplotlib.org/</dc:title>\n     </cc:Agent>\n    </dc:creator>\n   </cc:Work>\n  </rdf:RDF>\n </metadata>\n <defs>\n  <style type=\"text/css\">*{stroke-linecap:butt;stroke-linejoin:round;}</style>\n </defs>\n <g id=\"figure_1\">\n  <g id=\"patch_1\">\n   <path d=\"M 0 249.958125 \nL 179.765625 249.958125 \nL 179.765625 0 \nL 0 0 \nz\n\" style=\"fill:none;\"/>\n  </g>\n  <g id=\"axes_1\">\n   <g id=\"patch_2\">\n    <path clip-path=\"url(#p93ec874dd0)\" d=\"M 7.2 224.322909 \nL 172.565625 224.322909 \nL 172.565625 207.284452 \nL 7.2 207.284452 \nz\n\" style=\"fill:#f5f5f5;\"/>\n   </g>\n   <g id=\"matplotlib.axis_1\"/>\n   <g id=\"matplotlib.axis_2\">\n    <g id=\"ytick_1\"/>\n    <g id=\"ytick_2\"/>\n   </g>\n  </g>\n  <g id=\"axes_2\">\n   <g id=\"PathCollection_1\">\n    <defs>\n     <path d=\"M 0 5.6 \nC 1.485137 5.6 2.909647 5.009949 3.959798 3.959798 \nC 5.009949 2.909647 5.6 1.485137 5.6 -0 \nC 5.6 -1.485137 5.009949 -2.909647 3.959798 -3.959798 \nC 2.909647 -5.009949 1.485137 -5.6 0 -5.6 \nC -1.485137 -5.6 -2.909647 -5.009949 -3.959798 -3.959798 \nC -5.009949 -2.909647 -5.6 -1.485137 -5.6 0 \nC -5.6 1.485137 -5.009949 2.909647 -3.959798 3.959798 \nC -2.909647 5.009949 -1.485137 5.6 0 5.6 \nz\n\" id=\"C0_0_c71c4c7863\"/>\n    </defs>\n    <g clip-path=\"url(#pbf70dde90d)\">\n     <use x=\"113.349331\" xlink:href=\"#C0_0_c71c4c7863\" y=\"215.80368\"/>\n    </g>\n    <g clip-path=\"url(#pbf70dde90d)\">\n     <use style=\"fill:#d3d3d3;\" x=\"113.349331\" xlink:href=\"#C0_0_c71c4c7863\" y=\"194.505609\"/>\n    </g>\n    <g clip-path=\"url(#pbf70dde90d)\">\n     <use style=\"fill:#d3d3d3;\" x=\"138.282508\" xlink:href=\"#C0_0_c71c4c7863\" y=\"215.80368\"/>\n    </g>\n    <g clip-path=\"url(#pbf70dde90d)\">\n     <use x=\"138.282508\" xlink:href=\"#C0_0_c71c4c7863\" y=\"194.505609\"/>\n    </g>\n    <g clip-path=\"url(#pbf70dde90d)\">\n     <use x=\"163.215684\" xlink:href=\"#C0_0_c71c4c7863\" y=\"215.80368\"/>\n    </g>\n    <g clip-path=\"url(#pbf70dde90d)\">\n     <use x=\"163.215684\" xlink:href=\"#C0_0_c71c4c7863\" y=\"194.505609\"/>\n    </g>\n   </g>\n   <g id=\"matplotlib.axis_3\">\n    <g id=\"ytick_3\">\n     <g id=\"line2d_1\"/>\n     <g id=\"text_1\">\n      <!-- genbank -->\n      <g transform=\"translate(57.05564 219.602899)scale(0.1 -0.1)\">\n       <defs>\n        <path d=\"M 45.40625 27.984375 \nQ 45.40625 37.75 41.375 43.109375 \nQ 37.359375 48.484375 30.078125 48.484375 \nQ 22.859375 48.484375 18.828125 43.109375 \nQ 14.796875 37.75 14.796875 27.984375 \nQ 14.796875 18.265625 18.828125 12.890625 \nQ 22.859375 7.515625 30.078125 7.515625 \nQ 37.359375 7.515625 41.375 12.890625 \nQ 45.40625 18.265625 45.40625 27.984375 \nz\nM 54.390625 6.78125 \nQ 54.390625 -7.171875 48.1875 -13.984375 \nQ 42 -20.796875 29.203125 -20.796875 \nQ 24.46875 -20.796875 20.265625 -20.09375 \nQ 16.0625 -19.390625 12.109375 -17.921875 \nL 12.109375 -9.1875 \nQ 16.0625 -11.328125 19.921875 -12.34375 \nQ 23.78125 -13.375 27.78125 -13.375 \nQ 36.625 -13.375 41.015625 -8.765625 \nQ 45.40625 -4.15625 45.40625 5.171875 \nL 45.40625 9.625 \nQ 42.625 4.78125 38.28125 2.390625 \nQ 33.9375 0 27.875 0 \nQ 17.828125 0 11.671875 7.65625 \nQ 5.515625 15.328125 5.515625 27.984375 \nQ 5.515625 40.671875 11.671875 48.328125 \nQ 17.828125 56 27.875 56 \nQ 33.9375 56 38.28125 53.609375 \nQ 42.625 51.21875 45.40625 46.390625 \nL 45.40625 54.6875 \nL 54.390625 54.6875 \nz\n\" id=\"DejaVuSans-103\"/>\n        <path d=\"M 56.203125 29.59375 \nL 56.203125 25.203125 \nL 14.890625 25.203125 \nQ 15.484375 15.921875 20.484375 11.0625 \nQ 25.484375 6.203125 34.421875 6.203125 \nQ 39.59375 6.203125 44.453125 7.46875 \nQ 49.3125 8.734375 54.109375 11.28125 \nL 54.109375 2.78125 \nQ 49.265625 0.734375 44.1875 -0.34375 \nQ 39.109375 -1.421875 33.890625 -1.421875 \nQ 20.796875 -1.421875 13.15625 6.1875 \nQ 5.515625 13.8125 5.515625 26.8125 \nQ 5.515625 40.234375 12.765625 48.109375 \nQ 20.015625 56 32.328125 56 \nQ 43.359375 56 49.78125 48.890625 \nQ 56.203125 41.796875 56.203125 29.59375 \nz\nM 47.21875 32.234375 \nQ 47.125 39.59375 43.09375 43.984375 \nQ 39.0625 48.390625 32.421875 48.390625 \nQ 24.90625 48.390625 20.390625 44.140625 \nQ 15.875 39.890625 15.1875 32.171875 \nz\n\" id=\"DejaVuSans-101\"/>\n        <path d=\"M 54.890625 33.015625 \nL 54.890625 0 \nL 45.90625 0 \nL 45.90625 32.71875 \nQ 45.90625 40.484375 42.875 44.328125 \nQ 39.84375 48.1875 33.796875 48.1875 \nQ 26.515625 48.1875 22.3125 43.546875 \nQ 18.109375 38.921875 18.109375 30.90625 \nL 18.109375 0 \nL 9.078125 0 \nL 9.078125 54.6875 \nL 18.109375 54.6875 \nL 18.109375 46.1875 \nQ 21.34375 51.125 25.703125 53.5625 \nQ 30.078125 56 35.796875 56 \nQ 45.21875 56 50.046875 50.171875 \nQ 54.890625 44.34375 54.890625 33.015625 \nz\n\" id=\"DejaVuSans-110\"/>\n        <path d=\"M 48.6875 27.296875 \nQ 48.6875 37.203125 44.609375 42.84375 \nQ 40.53125 48.484375 33.40625 48.484375 \nQ 26.265625 48.484375 22.1875 42.84375 \nQ 18.109375 37.203125 18.109375 27.296875 \nQ 18.109375 17.390625 22.1875 11.75 \nQ 26.265625 6.109375 33.40625 6.109375 \nQ 40.53125 6.109375 44.609375 11.75 \nQ 48.6875 17.390625 48.6875 27.296875 \nz\nM 18.109375 46.390625 \nQ 20.953125 51.265625 25.265625 53.625 \nQ 29.59375 56 35.59375 56 \nQ 45.5625 56 51.78125 48.09375 \nQ 58.015625 40.1875 58.015625 27.296875 \nQ 58.015625 14.40625 51.78125 6.484375 \nQ 45.5625 -1.421875 35.59375 -1.421875 \nQ 29.59375 -1.421875 25.265625 0.953125 \nQ 20.953125 3.328125 18.109375 8.203125 \nL 18.109375 0 \nL 9.078125 0 \nL 9.078125 75.984375 \nL 18.109375 75.984375 \nz\n\" id=\"DejaVuSans-98\"/>\n        <path d=\"M 34.28125 27.484375 \nQ 23.390625 27.484375 19.1875 25 \nQ 14.984375 22.515625 14.984375 16.5 \nQ 14.984375 11.71875 18.140625 8.90625 \nQ 21.296875 6.109375 26.703125 6.109375 \nQ 34.1875 6.109375 38.703125 11.40625 \nQ 43.21875 16.703125 43.21875 25.484375 \nL 43.21875 27.484375 \nz\nM 52.203125 31.203125 \nL 52.203125 0 \nL 43.21875 0 \nL 43.21875 8.296875 \nQ 40.140625 3.328125 35.546875 0.953125 \nQ 30.953125 -1.421875 24.3125 -1.421875 \nQ 15.921875 -1.421875 10.953125 3.296875 \nQ 6 8.015625 6 15.921875 \nQ 6 25.140625 12.171875 29.828125 \nQ 18.359375 34.515625 30.609375 34.515625 \nL 43.21875 34.515625 \nL 43.21875 35.40625 \nQ 43.21875 41.609375 39.140625 45 \nQ 35.0625 48.390625 27.6875 48.390625 \nQ 23 48.390625 18.546875 47.265625 \nQ 14.109375 46.140625 10.015625 43.890625 \nL 10.015625 52.203125 \nQ 14.9375 54.109375 19.578125 55.046875 \nQ 24.21875 56 28.609375 56 \nQ 40.484375 56 46.34375 49.84375 \nQ 52.203125 43.703125 52.203125 31.203125 \nz\n\" id=\"DejaVuSans-97\"/>\n        <path d=\"M 9.078125 75.984375 \nL 18.109375 75.984375 \nL 18.109375 31.109375 \nL 44.921875 54.6875 \nL 56.390625 54.6875 \nL 27.390625 29.109375 \nL 57.625 0 \nL 45.90625 0 \nL 18.109375 26.703125 \nL 18.109375 0 \nL 9.078125 0 \nz\n\" id=\"DejaVuSans-107\"/>\n       </defs>\n       <use xlink:href=\"#DejaVuSans-103\"/>\n       <use x=\"63.476562\" xlink:href=\"#DejaVuSans-101\"/>\n       <use x=\"125\" xlink:href=\"#DejaVuSans-110\"/>\n       <use x=\"188.378906\" xlink:href=\"#DejaVuSans-98\"/>\n       <use x=\"251.855469\" xlink:href=\"#DejaVuSans-97\"/>\n       <use x=\"313.134766\" xlink:href=\"#DejaVuSans-110\"/>\n       <use x=\"376.513672\" xlink:href=\"#DejaVuSans-107\"/>\n      </g>\n     </g>\n    </g>\n    <g id=\"ytick_4\">\n     <g id=\"line2d_2\"/>\n     <g id=\"text_2\">\n      <!-- vipr -->\n      <g transform=\"translate(81.34314 198.304828)scale(0.1 -0.1)\">\n       <defs>\n        <path d=\"M 2.984375 54.6875 \nL 12.5 54.6875 \nL 29.59375 8.796875 \nL 46.6875 54.6875 \nL 56.203125 54.6875 \nL 35.6875 0 \nL 23.484375 0 \nz\n\" id=\"DejaVuSans-118\"/>\n        <path d=\"M 9.421875 54.6875 \nL 18.40625 54.6875 \nL 18.40625 0 \nL 9.421875 0 \nz\nM 9.421875 75.984375 \nL 18.40625 75.984375 \nL 18.40625 64.59375 \nL 9.421875 64.59375 \nz\n\" id=\"DejaVuSans-105\"/>\n        <path d=\"M 18.109375 8.203125 \nL 18.109375 -20.796875 \nL 9.078125 -20.796875 \nL 9.078125 54.6875 \nL 18.109375 54.6875 \nL 18.109375 46.390625 \nQ 20.953125 51.265625 25.265625 53.625 \nQ 29.59375 56 35.59375 56 \nQ 45.5625 56 51.78125 48.09375 \nQ 58.015625 40.1875 58.015625 27.296875 \nQ 58.015625 14.40625 51.78125 6.484375 \nQ 45.5625 -1.421875 35.59375 -1.421875 \nQ 29.59375 -1.421875 25.265625 0.953125 \nQ 20.953125 3.328125 18.109375 8.203125 \nz\nM 48.6875 27.296875 \nQ 48.6875 37.203125 44.609375 42.84375 \nQ 40.53125 48.484375 33.40625 48.484375 \nQ 26.265625 48.484375 22.1875 42.84375 \nQ 18.109375 37.203125 18.109375 27.296875 \nQ 18.109375 17.390625 22.1875 11.75 \nQ 26.265625 6.109375 33.40625 6.109375 \nQ 40.53125 6.109375 44.609375 11.75 \nQ 48.6875 17.390625 48.6875 27.296875 \nz\n\" id=\"DejaVuSans-112\"/>\n        <path d=\"M 41.109375 46.296875 \nQ 39.59375 47.171875 37.8125 47.578125 \nQ 36.03125 48 33.890625 48 \nQ 26.265625 48 22.1875 43.046875 \nQ 18.109375 38.09375 18.109375 28.8125 \nL 18.109375 0 \nL 9.078125 0 \nL 9.078125 54.6875 \nL 18.109375 54.6875 \nL 18.109375 46.1875 \nQ 20.953125 51.171875 25.484375 53.578125 \nQ 30.03125 56 36.53125 56 \nQ 37.453125 56 38.578125 55.875 \nQ 39.703125 55.765625 41.0625 55.515625 \nz\n\" id=\"DejaVuSans-114\"/>\n       </defs>\n       <use xlink:href=\"#DejaVuSans-118\"/>\n       <use x=\"59.179688\" xlink:href=\"#DejaVuSans-105\"/>\n       <use x=\"86.962891\" xlink:href=\"#DejaVuSans-112\"/>\n       <use x=\"150.439453\" xlink:href=\"#DejaVuSans-114\"/>\n      </g>\n     </g>\n    </g>\n   </g>\n   <g id=\"LineCollection_1\">\n    <path clip-path=\"url(#pbf70dde90d)\" d=\"M 113.349331 215.80368 \nL 113.349331 215.80368 \n\" style=\"fill:none;stroke:#000000;stroke-width:2;\"/>\n    <path clip-path=\"url(#pbf70dde90d)\" d=\"M 138.282508 194.505609 \nL 138.282508 194.505609 \n\" style=\"fill:none;stroke:#000000;stroke-width:2;\"/>\n    <path clip-path=\"url(#pbf70dde90d)\" d=\"M 163.215684 215.80368 \nL 163.215684 194.505609 \n\" style=\"fill:none;stroke:#000000;stroke-width:2;\"/>\n   </g>\n  </g>\n  <g id=\"axes_3\">\n   <g id=\"patch_3\">\n    <path clip-path=\"url(#paad2f9ddf6)\" d=\"M 51.566387 221.128198 \nL 7.2 221.128198 \nL 7.2 210.479163 \nL 51.566387 210.479163 \nz\n\"/>\n   </g>\n   <g id=\"patch_4\">\n    <path clip-path=\"url(#paad2f9ddf6)\" d=\"M 51.566387 199.830127 \nL 18.685714 199.830127 \nL 18.685714 189.181091 \nL 51.566387 189.181091 \nz\n\"/>\n   </g>\n   <g id=\"matplotlib.axis_4\">\n    <g id=\"xtick_1\">\n     <g id=\"line2d_3\">\n      <path clip-path=\"url(#paad2f9ddf6)\" d=\"M 51.566387 226.08 \nL 51.566387 187.424 \n\" style=\"fill:none;stroke:#b0b0b0;stroke-linecap:square;stroke-width:0.8;\"/>\n     </g>\n     <g id=\"line2d_4\">\n      <defs>\n       <path d=\"M 0 0 \nL 0 3.5 \n\" id=\"me667c5451a\" style=\"stroke:#000000;stroke-width:0.8;\"/>\n      </defs>\n      <g>\n       <use style=\"stroke:#000000;stroke-width:0.8;\" x=\"51.566387\" xlink:href=\"#me667c5451a\" y=\"226.08\"/>\n      </g>\n     </g>\n     <g id=\"text_3\">\n      <!-- 0 -->\n      <g transform=\"translate(48.385137 240.678438)scale(0.1 -0.1)\">\n       <defs>\n        <path d=\"M 31.78125 66.40625 \nQ 24.171875 66.40625 20.328125 58.90625 \nQ 16.5 51.421875 16.5 36.375 \nQ 16.5 21.390625 20.328125 13.890625 \nQ 24.171875 6.390625 31.78125 6.390625 \nQ 39.453125 6.390625 43.28125 13.890625 \nQ 47.125 21.390625 47.125 36.375 \nQ 47.125 51.421875 43.28125 58.90625 \nQ 39.453125 66.40625 31.78125 66.40625 \nz\nM 31.78125 74.21875 \nQ 44.046875 74.21875 50.515625 64.515625 \nQ 56.984375 54.828125 56.984375 36.375 \nQ 56.984375 17.96875 50.515625 8.265625 \nQ 44.046875 -1.421875 31.78125 -1.421875 \nQ 19.53125 -1.421875 13.0625 8.265625 \nQ 6.59375 17.96875 6.59375 36.375 \nQ 6.59375 54.828125 13.0625 64.515625 \nQ 19.53125 74.21875 31.78125 74.21875 \nz\n\" id=\"DejaVuSans-48\"/>\n       </defs>\n       <use xlink:href=\"#DejaVuSans-48\"/>\n      </g>\n     </g>\n    </g>\n    <g id=\"xtick_2\">\n     <g id=\"line2d_5\">\n      <path clip-path=\"url(#paad2f9ddf6)\" d=\"M 29.045378 226.08 \nL 29.045378 187.424 \n\" style=\"fill:none;stroke:#b0b0b0;stroke-linecap:square;stroke-width:0.8;\"/>\n     </g>\n     <g id=\"line2d_6\">\n      <g>\n       <use style=\"stroke:#000000;stroke-width:0.8;\" x=\"29.045378\" xlink:href=\"#me667c5451a\" y=\"226.08\"/>\n      </g>\n     </g>\n     <g id=\"text_4\">\n      <!-- 100 -->\n      <g transform=\"translate(19.501628 240.678438)scale(0.1 -0.1)\">\n       <defs>\n        <path d=\"M 12.40625 8.296875 \nL 28.515625 8.296875 \nL 28.515625 63.921875 \nL 10.984375 60.40625 \nL 10.984375 69.390625 \nL 28.421875 72.90625 \nL 38.28125 72.90625 \nL 38.28125 8.296875 \nL 54.390625 8.296875 \nL 54.390625 0 \nL 12.40625 0 \nz\n\" id=\"DejaVuSans-49\"/>\n       </defs>\n       <use xlink:href=\"#DejaVuSans-49\"/>\n       <use x=\"63.623047\" xlink:href=\"#DejaVuSans-48\"/>\n       <use x=\"127.246094\" xlink:href=\"#DejaVuSans-48\"/>\n      </g>\n     </g>\n    </g>\n   </g>\n   <g id=\"patch_5\">\n    <path d=\"M 7.2 226.08 \nL 51.566387 226.08 \n\" style=\"fill:none;stroke:#000000;stroke-linecap:square;stroke-linejoin:miter;stroke-width:0.8;\"/>\n   </g>\n  </g>\n  <g id=\"axes_4\">\n   <g id=\"patch_6\">\n    <path d=\"M 103.99939 174.538667 \nL 172.565625 174.538667 \nL 172.565625 32.8 \nL 103.99939 32.8 \nz\n\" style=\"fill:#ffffff;\"/>\n   </g>\n   <g id=\"matplotlib.axis_5\">\n    <g id=\"ytick_5\">\n     <g id=\"line2d_7\">\n      <path clip-path=\"url(#p4e4d539049)\" d=\"M 103.99939 174.538667 \nL 172.565625 174.538667 \n\" style=\"fill:none;stroke:#b0b0b0;stroke-linecap:square;stroke-width:0.8;\"/>\n     </g>\n     <g id=\"line2d_8\">\n      <defs>\n       <path d=\"M 0 0 \nL -3.5 0 \n\" id=\"mfc7faedf4a\" style=\"stroke:#000000;stroke-width:0.8;\"/>\n      </defs>\n      <g>\n       <use style=\"stroke:#000000;stroke-width:0.8;\" x=\"103.99939\" xlink:href=\"#mfc7faedf4a\" y=\"174.538667\"/>\n      </g>\n     </g>\n     <g id=\"text_5\">\n      <!-- 0 -->\n      <g transform=\"translate(90.63689 178.337885)scale(0.1 -0.1)\">\n       <use xlink:href=\"#DejaVuSans-48\"/>\n      </g>\n     </g>\n    </g>\n    <g id=\"ytick_6\">\n     <g id=\"line2d_9\">\n      <path clip-path=\"url(#p4e4d539049)\" d=\"M 103.99939 151.103041 \nL 172.565625 151.103041 \n\" style=\"fill:none;stroke:#b0b0b0;stroke-linecap:square;stroke-width:0.8;\"/>\n     </g>\n     <g id=\"line2d_10\">\n      <g>\n       <use style=\"stroke:#000000;stroke-width:0.8;\" x=\"103.99939\" xlink:href=\"#mfc7faedf4a\" y=\"151.103041\"/>\n      </g>\n     </g>\n     <g id=\"text_6\">\n      <!-- 25 -->\n      <g transform=\"translate(84.27439 154.902259)scale(0.1 -0.1)\">\n       <defs>\n        <path d=\"M 19.1875 8.296875 \nL 53.609375 8.296875 \nL 53.609375 0 \nL 7.328125 0 \nL 7.328125 8.296875 \nQ 12.9375 14.109375 22.625 23.890625 \nQ 32.328125 33.6875 34.8125 36.53125 \nQ 39.546875 41.84375 41.421875 45.53125 \nQ 43.3125 49.21875 43.3125 52.78125 \nQ 43.3125 58.59375 39.234375 62.25 \nQ 35.15625 65.921875 28.609375 65.921875 \nQ 23.96875 65.921875 18.8125 64.3125 \nQ 13.671875 62.703125 7.8125 59.421875 \nL 7.8125 69.390625 \nQ 13.765625 71.78125 18.9375 73 \nQ 24.125 74.21875 28.421875 74.21875 \nQ 39.75 74.21875 46.484375 68.546875 \nQ 53.21875 62.890625 53.21875 53.421875 \nQ 53.21875 48.921875 51.53125 44.890625 \nQ 49.859375 40.875 45.40625 35.40625 \nQ 44.1875 33.984375 37.640625 27.21875 \nQ 31.109375 20.453125 19.1875 8.296875 \nz\n\" id=\"DejaVuSans-50\"/>\n        <path d=\"M 10.796875 72.90625 \nL 49.515625 72.90625 \nL 49.515625 64.59375 \nL 19.828125 64.59375 \nL 19.828125 46.734375 \nQ 21.96875 47.46875 24.109375 47.828125 \nQ 26.265625 48.1875 28.421875 48.1875 \nQ 40.625 48.1875 47.75 41.5 \nQ 54.890625 34.8125 54.890625 23.390625 \nQ 54.890625 11.625 47.5625 5.09375 \nQ 40.234375 -1.421875 26.90625 -1.421875 \nQ 22.3125 -1.421875 17.546875 -0.640625 \nQ 12.796875 0.140625 7.71875 1.703125 \nL 7.71875 11.625 \nQ 12.109375 9.234375 16.796875 8.0625 \nQ 21.484375 6.890625 26.703125 6.890625 \nQ 35.15625 6.890625 40.078125 11.328125 \nQ 45.015625 15.765625 45.015625 23.390625 \nQ 45.015625 31 40.078125 35.4375 \nQ 35.15625 39.890625 26.703125 39.890625 \nQ 22.75 39.890625 18.8125 39.015625 \nQ 14.890625 38.140625 10.796875 36.28125 \nz\n\" id=\"DejaVuSans-53\"/>\n       </defs>\n       <use xlink:href=\"#DejaVuSans-50\"/>\n       <use x=\"63.623047\" xlink:href=\"#DejaVuSans-53\"/>\n      </g>\n     </g>\n    </g>\n    <g id=\"ytick_7\">\n     <g id=\"line2d_11\">\n      <path clip-path=\"url(#p4e4d539049)\" d=\"M 103.99939 127.667414 \nL 172.565625 127.667414 \n\" style=\"fill:none;stroke:#b0b0b0;stroke-linecap:square;stroke-width:0.8;\"/>\n     </g>\n     <g id=\"line2d_12\">\n      <g>\n       <use style=\"stroke:#000000;stroke-width:0.8;\" x=\"103.99939\" xlink:href=\"#mfc7faedf4a\" y=\"127.667414\"/>\n      </g>\n     </g>\n     <g id=\"text_7\">\n      <!-- 50 -->\n      <g transform=\"translate(84.27439 131.466633)scale(0.1 -0.1)\">\n       <use xlink:href=\"#DejaVuSans-53\"/>\n       <use x=\"63.623047\" xlink:href=\"#DejaVuSans-48\"/>\n      </g>\n     </g>\n    </g>\n    <g id=\"ytick_8\">\n     <g id=\"line2d_13\">\n      <path clip-path=\"url(#p4e4d539049)\" d=\"M 103.99939 104.231788 \nL 172.565625 104.231788 \n\" style=\"fill:none;stroke:#b0b0b0;stroke-linecap:square;stroke-width:0.8;\"/>\n     </g>\n     <g id=\"line2d_14\">\n      <g>\n       <use style=\"stroke:#000000;stroke-width:0.8;\" x=\"103.99939\" xlink:href=\"#mfc7faedf4a\" y=\"104.231788\"/>\n      </g>\n     </g>\n     <g id=\"text_8\">\n      <!-- 75 -->\n      <g transform=\"translate(84.27439 108.031007)scale(0.1 -0.1)\">\n       <defs>\n        <path d=\"M 8.203125 72.90625 \nL 55.078125 72.90625 \nL 55.078125 68.703125 \nL 28.609375 0 \nL 18.3125 0 \nL 43.21875 64.59375 \nL 8.203125 64.59375 \nz\n\" id=\"DejaVuSans-55\"/>\n       </defs>\n       <use xlink:href=\"#DejaVuSans-55\"/>\n       <use x=\"63.623047\" xlink:href=\"#DejaVuSans-53\"/>\n      </g>\n     </g>\n    </g>\n    <g id=\"ytick_9\">\n     <g id=\"line2d_15\">\n      <path clip-path=\"url(#p4e4d539049)\" d=\"M 103.99939 80.796162 \nL 172.565625 80.796162 \n\" style=\"fill:none;stroke:#b0b0b0;stroke-linecap:square;stroke-width:0.8;\"/>\n     </g>\n     <g id=\"line2d_16\">\n      <g>\n       <use style=\"stroke:#000000;stroke-width:0.8;\" x=\"103.99939\" xlink:href=\"#mfc7faedf4a\" y=\"80.796162\"/>\n      </g>\n     </g>\n     <g id=\"text_9\">\n      <!-- 100 -->\n      <g transform=\"translate(77.91189 84.595381)scale(0.1 -0.1)\">\n       <use xlink:href=\"#DejaVuSans-49\"/>\n       <use x=\"63.623047\" xlink:href=\"#DejaVuSans-48\"/>\n       <use x=\"127.246094\" xlink:href=\"#DejaVuSans-48\"/>\n      </g>\n     </g>\n    </g>\n    <g id=\"ytick_10\">\n     <g id=\"line2d_17\">\n      <path clip-path=\"url(#p4e4d539049)\" d=\"M 103.99939 57.360536 \nL 172.565625 57.360536 \n\" style=\"fill:none;stroke:#b0b0b0;stroke-linecap:square;stroke-width:0.8;\"/>\n     </g>\n     <g id=\"line2d_18\">\n      <g>\n       <use style=\"stroke:#000000;stroke-width:0.8;\" x=\"103.99939\" xlink:href=\"#mfc7faedf4a\" y=\"57.360536\"/>\n      </g>\n     </g>\n     <g id=\"text_10\">\n      <!-- 125 -->\n      <g transform=\"translate(77.91189 61.159755)scale(0.1 -0.1)\">\n       <use xlink:href=\"#DejaVuSans-49\"/>\n       <use x=\"63.623047\" xlink:href=\"#DejaVuSans-50\"/>\n       <use x=\"127.246094\" xlink:href=\"#DejaVuSans-53\"/>\n      </g>\n     </g>\n    </g>\n    <g id=\"ytick_11\">\n     <g id=\"line2d_19\">\n      <path clip-path=\"url(#p4e4d539049)\" d=\"M 103.99939 33.92491 \nL 172.565625 33.92491 \n\" style=\"fill:none;stroke:#b0b0b0;stroke-linecap:square;stroke-width:0.8;\"/>\n     </g>\n     <g id=\"line2d_20\">\n      <g>\n       <use style=\"stroke:#000000;stroke-width:0.8;\" x=\"103.99939\" xlink:href=\"#mfc7faedf4a\" y=\"33.92491\"/>\n      </g>\n     </g>\n     <g id=\"text_11\">\n      <!-- 150 -->\n      <g transform=\"translate(77.91189 37.724129)scale(0.1 -0.1)\">\n       <use xlink:href=\"#DejaVuSans-49\"/>\n       <use x=\"63.623047\" xlink:href=\"#DejaVuSans-53\"/>\n       <use x=\"127.246094\" xlink:href=\"#DejaVuSans-48\"/>\n      </g>\n     </g>\n    </g>\n    <g id=\"text_12\">\n     <!-- Intersection size -->\n     <g transform=\"translate(71.832203 144.696677)rotate(-90)scale(0.1 -0.1)\">\n      <defs>\n       <path d=\"M 9.8125 72.90625 \nL 19.671875 72.90625 \nL 19.671875 0 \nL 9.8125 0 \nz\n\" id=\"DejaVuSans-73\"/>\n       <path d=\"M 18.3125 70.21875 \nL 18.3125 54.6875 \nL 36.8125 54.6875 \nL 36.8125 47.703125 \nL 18.3125 47.703125 \nL 18.3125 18.015625 \nQ 18.3125 11.328125 20.140625 9.421875 \nQ 21.96875 7.515625 27.59375 7.515625 \nL 36.8125 7.515625 \nL 36.8125 0 \nL 27.59375 0 \nQ 17.1875 0 13.234375 3.875 \nQ 9.28125 7.765625 9.28125 18.015625 \nL 9.28125 47.703125 \nL 2.6875 47.703125 \nL 2.6875 54.6875 \nL 9.28125 54.6875 \nL 9.28125 70.21875 \nz\n\" id=\"DejaVuSans-116\"/>\n       <path d=\"M 44.28125 53.078125 \nL 44.28125 44.578125 \nQ 40.484375 46.53125 36.375 47.5 \nQ 32.28125 48.484375 27.875 48.484375 \nQ 21.1875 48.484375 17.84375 46.4375 \nQ 14.5 44.390625 14.5 40.28125 \nQ 14.5 37.15625 16.890625 35.375 \nQ 19.28125 33.59375 26.515625 31.984375 \nL 29.59375 31.296875 \nQ 39.15625 29.25 43.1875 25.515625 \nQ 47.21875 21.78125 47.21875 15.09375 \nQ 47.21875 7.46875 41.1875 3.015625 \nQ 35.15625 -1.421875 24.609375 -1.421875 \nQ 20.21875 -1.421875 15.453125 -0.5625 \nQ 10.6875 0.296875 5.421875 2 \nL 5.421875 11.28125 \nQ 10.40625 8.6875 15.234375 7.390625 \nQ 20.0625 6.109375 24.8125 6.109375 \nQ 31.15625 6.109375 34.5625 8.28125 \nQ 37.984375 10.453125 37.984375 14.40625 \nQ 37.984375 18.0625 35.515625 20.015625 \nQ 33.0625 21.96875 24.703125 23.78125 \nL 21.578125 24.515625 \nQ 13.234375 26.265625 9.515625 29.90625 \nQ 5.8125 33.546875 5.8125 39.890625 \nQ 5.8125 47.609375 11.28125 51.796875 \nQ 16.75 56 26.8125 56 \nQ 31.78125 56 36.171875 55.265625 \nQ 40.578125 54.546875 44.28125 53.078125 \nz\n\" id=\"DejaVuSans-115\"/>\n       <path d=\"M 48.78125 52.59375 \nL 48.78125 44.1875 \nQ 44.96875 46.296875 41.140625 47.34375 \nQ 37.3125 48.390625 33.40625 48.390625 \nQ 24.65625 48.390625 19.8125 42.84375 \nQ 14.984375 37.3125 14.984375 27.296875 \nQ 14.984375 17.28125 19.8125 11.734375 \nQ 24.65625 6.203125 33.40625 6.203125 \nQ 37.3125 6.203125 41.140625 7.25 \nQ 44.96875 8.296875 48.78125 10.40625 \nL 48.78125 2.09375 \nQ 45.015625 0.34375 40.984375 -0.53125 \nQ 36.96875 -1.421875 32.421875 -1.421875 \nQ 20.0625 -1.421875 12.78125 6.34375 \nQ 5.515625 14.109375 5.515625 27.296875 \nQ 5.515625 40.671875 12.859375 48.328125 \nQ 20.21875 56 33.015625 56 \nQ 37.15625 56 41.109375 55.140625 \nQ 45.0625 54.296875 48.78125 52.59375 \nz\n\" id=\"DejaVuSans-99\"/>\n       <path d=\"M 30.609375 48.390625 \nQ 23.390625 48.390625 19.1875 42.75 \nQ 14.984375 37.109375 14.984375 27.296875 \nQ 14.984375 17.484375 19.15625 11.84375 \nQ 23.34375 6.203125 30.609375 6.203125 \nQ 37.796875 6.203125 41.984375 11.859375 \nQ 46.1875 17.53125 46.1875 27.296875 \nQ 46.1875 37.015625 41.984375 42.703125 \nQ 37.796875 48.390625 30.609375 48.390625 \nz\nM 30.609375 56 \nQ 42.328125 56 49.015625 48.375 \nQ 55.71875 40.765625 55.71875 27.296875 \nQ 55.71875 13.875 49.015625 6.21875 \nQ 42.328125 -1.421875 30.609375 -1.421875 \nQ 18.84375 -1.421875 12.171875 6.21875 \nQ 5.515625 13.875 5.515625 27.296875 \nQ 5.515625 40.765625 12.171875 48.375 \nQ 18.84375 56 30.609375 56 \nz\n\" id=\"DejaVuSans-111\"/>\n       <path id=\"DejaVuSans-32\"/>\n       <path d=\"M 5.515625 54.6875 \nL 48.1875 54.6875 \nL 48.1875 46.484375 \nL 14.40625 7.171875 \nL 48.1875 7.171875 \nL 48.1875 0 \nL 4.296875 0 \nL 4.296875 8.203125 \nL 38.09375 47.515625 \nL 5.515625 47.515625 \nz\n\" id=\"DejaVuSans-122\"/>\n      </defs>\n      <use xlink:href=\"#DejaVuSans-73\"/>\n      <use x=\"29.492188\" xlink:href=\"#DejaVuSans-110\"/>\n      <use x=\"92.871094\" xlink:href=\"#DejaVuSans-116\"/>\n      <use x=\"132.080078\" xlink:href=\"#DejaVuSans-101\"/>\n      <use x=\"193.603516\" xlink:href=\"#DejaVuSans-114\"/>\n      <use x=\"234.716797\" xlink:href=\"#DejaVuSans-115\"/>\n      <use x=\"286.816406\" xlink:href=\"#DejaVuSans-101\"/>\n      <use x=\"348.339844\" xlink:href=\"#DejaVuSans-99\"/>\n      <use x=\"403.320312\" xlink:href=\"#DejaVuSans-116\"/>\n      <use x=\"442.529297\" xlink:href=\"#DejaVuSans-105\"/>\n      <use x=\"470.3125\" xlink:href=\"#DejaVuSans-111\"/>\n      <use x=\"531.494141\" xlink:href=\"#DejaVuSans-110\"/>\n      <use x=\"594.873047\" xlink:href=\"#DejaVuSans-32\"/>\n      <use x=\"626.660156\" xlink:href=\"#DejaVuSans-115\"/>\n      <use x=\"678.759766\" xlink:href=\"#DejaVuSans-105\"/>\n      <use x=\"706.542969\" xlink:href=\"#DejaVuSans-122\"/>\n      <use x=\"759.033203\" xlink:href=\"#DejaVuSans-101\"/>\n     </g>\n    </g>\n   </g>\n   <g id=\"patch_7\">\n    <path d=\"M 103.99939 174.538667 \nL 103.99939 32.8 \n\" style=\"fill:none;stroke:#000000;stroke-linecap:square;stroke-linejoin:miter;stroke-width:0.8;\"/>\n   </g>\n   <g id=\"patch_8\">\n    <path clip-path=\"url(#p4e4d539049)\" d=\"M 107.116037 174.538667 \nL 119.582625 174.538667 \nL 119.582625 124.855139 \nL 107.116037 124.855139 \nz\n\"/>\n   </g>\n   <g id=\"patch_9\">\n    <path clip-path=\"url(#p4e4d539049)\" d=\"M 132.049214 174.538667 \nL 144.515802 174.538667 \nL 144.515802 172.663817 \nL 132.049214 172.663817 \nz\n\"/>\n   </g>\n   <g id=\"patch_10\">\n    <path clip-path=\"url(#p4e4d539049)\" d=\"M 156.98239 174.538667 \nL 169.448978 174.538667 \nL 169.448978 39.54946 \nL 156.98239 39.54946 \nz\n\"/>\n   </g>\n  </g>\n  <g id=\"text_13\">\n   <!-- plot -->\n   <g transform=\"translate(75.71625 16.318125)scale(0.12 -0.12)\">\n    <defs>\n     <path d=\"M 9.421875 75.984375 \nL 18.40625 75.984375 \nL 18.40625 0 \nL 9.421875 0 \nz\n\" id=\"DejaVuSans-108\"/>\n    </defs>\n    <use xlink:href=\"#DejaVuSans-112\"/>\n    <use x=\"63.476562\" xlink:href=\"#DejaVuSans-108\"/>\n    <use x=\"91.259766\" xlink:href=\"#DejaVuSans-111\"/>\n    <use x=\"152.441406\" xlink:href=\"#DejaVuSans-116\"/>\n   </g>\n  </g>\n </g>\n <defs>\n  <clipPath id=\"p93ec874dd0\">\n   <rect height=\"38.656\" width=\"165.365625\" x=\"7.2\" y=\"187.424\"/>\n  </clipPath>\n  <clipPath id=\"pbf70dde90d\">\n   <rect height=\"38.656\" width=\"68.566235\" x=\"103.99939\" y=\"187.424\"/>\n  </clipPath>\n  <clipPath id=\"paad2f9ddf6\">\n   <rect height=\"38.656\" width=\"44.366387\" x=\"7.2\" y=\"187.424\"/>\n  </clipPath>\n  <clipPath id=\"p4e4d539049\">\n   <rect height=\"141.738667\" width=\"68.566235\" x=\"103.99939\" y=\"32.8\"/>\n  </clipPath>\n </defs>\n</svg>\n",
      "image/png": "[encoded data removed]"
     },
     "metadata": {
      "needs_background": "light"
     }
    }
   ],
   "source": [
    "from upsetplot import from_memberships, plot\n",
    "from matplotlib import pyplot as plt\n",
    "#Make sure the matplotlib output is displayed in jupyter notebook\n",
    "%matplotlib inline\n",
    "\n",
    "#Set the names for your two lists to compare along with the title of your final plot\n",
    "genbank_name=\"genbank\"\n",
    "vipr_name=\"vipr\"\n",
    "plot_title=\"plot\"\n",
    "\n",
    "upset_data = from_memberships(\n",
    "    [[genbank_name], #This label corresponds to elements unique to genbank ID list\n",
    "    [vipr_name], #This label corresponds to elements unique to vipr ID list\n",
    "    [genbank_name,vipr_name], #This label corresponds to elements common to both lists\n",
    "    ],\n",
    "    data=[len(unique_to_genbank),len(unique_to_vipr),len(shared)] #calling back the lists you generated earlier, use len() to set the lengths of the histograms to be displayed at each of the membership labels above.\n",
    ")\n",
    "\n",
    "#Note: The upset_data format was line-separated to make it easier to comment.\n",
    "#The following command is identical:\n",
    "#set_data = from_memberships([[genbank_name],[vipr_name],[genbank_name,vipr_name],],data=[len(unique_to_genbank),len(unique_to_vipr),len(shared)])\n",
    "\n",
    "#Plot the data\n",
    "plot(upset_data)\n",
    "plt.suptitle('{0}'.format(plot_title))\n",
    "plt.show()"
   ]
  },
  {
   "source": [
    "Congrats, you have now compared two ID lists from two fasta files of different origins."
   ],
   "cell_type": "markdown",
   "metadata": {}
  }
 ]
}