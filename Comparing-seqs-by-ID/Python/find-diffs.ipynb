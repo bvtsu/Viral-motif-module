{
 "metadata": {
  "language_info": {
   "codemirror_mode": {
    "name": "ipython",
    "version": 3
   },
   "file_extension": ".py",
   "mimetype": "text/x-python",
   "name": "python",
   "nbconvert_exporter": "python",
   "pygments_lexer": "ipython3",
   "version": "3.8.5-final"
  },
  "orig_nbformat": 2,
  "kernelspec": {
   "name": "python3",
   "display_name": "Python 3",
   "language": "python"
  }
 },
 "nbformat": 4,
 "nbformat_minor": 2,
 "cells": [
  {
   "source": [
    "We want to determine similarities and differences between the viral seqs we can get from GenBank and ViPR.\n",
    "\n",
    "First, let's create an output folder where we will store the data we generate from this notebook. To do this, we'll import the pre-packaged os module, so that we can use the function os.mkdir(\"/path/to/directory\")."
   ],
   "cell_type": "markdown",
   "metadata": {}
  },
  {
   "cell_type": "code",
   "execution_count": null,
   "metadata": {},
   "outputs": [],
   "source": [
    "import os #for os.mkdir\n",
    "try: #Try to make output folder, if it doesn't already exist\n",
    "    os.mkdir(\"outputs/\")\n",
    "except: #If it does exist, print this next line\n",
    "    print(\"Creation of the directory failed, maybe it already exists.\")"
   ]
  },
  {
   "source": [
    "Now, store the location of your downloaded fasta files to their corresponding variables below inside the quotation marks, to designate that the information is a \"string\" type."
   ],
   "cell_type": "markdown",
   "metadata": {}
  },
  {
   "cell_type": "code",
   "execution_count": null,
   "metadata": {},
   "outputs": [],
   "source": [
    "genbank_fasta=\"../Examples/genbank-kobu.fasta\" #'/path/to/genbank_fasta_file'\n",
    "vipr_fasta=\"../Examples/vipr-kobu.fasta\" #'/path/to/vipr_fasta_file'"
   ]
  },
  {
   "source": [
    "We are now going to extract IDs from the fasta header. Let's start with our genbank_fasta and use the command open() to open the file, and then go line-by-line in a for-loop to take only the IDs and save them to a list."
   ],
   "cell_type": "markdown",
   "metadata": {}
  },
  {
   "cell_type": "code",
   "execution_count": null,
   "metadata": {},
   "outputs": [],
   "source": [
    "genbank_ID_list = [] #Create blank list\n",
    "with open(genbank_fasta) as file: #open the fasta formatted file\n",
    "    for line in file: #go line by line\n",
    "        line = line.strip() #take away the whitespace\n",
    "        if not line: #if it's a blank line,\n",
    "            continue #go to the next line\n",
    "        if line.startswith(\">\"): #these \">\" lines are the header info\n",
    "            seq_header = line[1:].split('.')[0] #start from the second character, and save up to the first \".\"\n",
    "            genbank_ID_list.append(seq_header) #Add the ID we just extracted to the list"
   ]
  },
  {
   "source": [
    "We're going to quickly check what the first few elements in this list look like to make sure everything is running correctly."
   ],
   "cell_type": "markdown",
   "metadata": {}
  },
  {
   "cell_type": "code",
   "execution_count": null,
   "metadata": {},
   "outputs": [],
   "source": [
    "print(genbank_ID_list[0:4]) #Print only elements 0, 1, 2, 3, 4 from genbank_ID_list"
   ]
  },
  {
   "source": [
    "Confirming that the IDs seem correct, fill in the following box to do the same for the vipr fasta file:"
   ],
   "cell_type": "markdown",
   "metadata": {}
  },
  {
   "cell_type": "code",
   "execution_count": null,
   "metadata": {},
   "outputs": [],
   "source": [
    "vipr_ID_list = [] #Create blank list\n",
    "#Fill\n",
    "#in\n",
    "#the\n",
    "#rest\n",
    "#to\n",
    "#generate\n",
    "#ID\n",
    "#list"
   ]
  },
  {
   "cell_type": "code",
   "execution_count": null,
   "metadata": {},
   "outputs": [],
   "source": [
    "#Use this space to test code or preview the finalized vipr_fasta"
   ]
  },
  {
   "source": [
    "Now that we have two ID lists, let's finally compare them for overlaps and differences."
   ],
   "cell_type": "markdown",
   "metadata": {}
  },
  {
   "cell_type": "code",
   "execution_count": null,
   "metadata": {},
   "outputs": [],
   "source": [
    "#we use set() here because it is a structure that ensures dupes don't exist.\n",
    "#Dupes prevent use of these simplistic subtraction and ampersand operations.\n",
    "#After we subtract using the easier-to-manipulate set() structures, we can stuff them back into a list using list()\n",
    "\n",
    "#put the remaining genbank IDs in list format after subtracting vipr ids\n",
    "unique_to_genbank = list(set(genbank_ID_list) - set(vipr_ID_list))\n",
    "\n",
    "#put the remaining vipr IDs in list format after subtracting genbank ids\n",
    "unique_to_vipr = list(set(vipr_ID_list) - set(genbank_ID_list))\n",
    "\n",
    "#put common elements in list format\n",
    "shared = list(set(vipr_ID_list) & set(genbank_ID_list))"
   ]
  },
  {
   "source": [
    "Now let's save the files as text files. This is just to hone in on the idea that you can export the data you create here."
   ],
   "cell_type": "markdown",
   "metadata": {}
  },
  {
   "cell_type": "code",
   "execution_count": null,
   "metadata": {},
   "outputs": [],
   "source": [
    "genbank_output_name=\"\" #set your output name inbetween the quotations\n",
    "\n",
    "#open a new, writeable (\"w\") text file as the variable f\n",
    "#the {0} is where your genbank_output_name will be inserted, so your named file will save within the outputs/ folder\n",
    "with open(\"outputs/{0}.txt\".format(genbank_output_name), \"w\") as f: \n",
    "    for element in unique_to_genbank: #loop through each element in the unique genbank ID list\n",
    "        f.write(\"{}\\n\".format(element)) #use .write() to write the current element to the file designated f"
   ]
  },
  {
   "source": [
    "Now, try creating textfiles for the unique_to_vipr and shared lists."
   ],
   "cell_type": "markdown",
   "metadata": {}
  },
  {
   "cell_type": "code",
   "execution_count": null,
   "metadata": {},
   "outputs": [],
   "source": [
    "vipr_output_name=\"\" #set your output name inbetween the quotations\n",
    "#Fill\n",
    "#in\n",
    "#the\n",
    "#rest\n",
    "#to\n",
    "#generate\n",
    "#textfile"
   ]
  },
  {
   "cell_type": "code",
   "execution_count": null,
   "metadata": {},
   "outputs": [],
   "source": [
    "shared_output_name=\"\" #set your output name inbetween the quotations\n",
    "#Fill\n",
    "#in\n",
    "#the\n",
    "#rest\n",
    "#to\n",
    "#generate\n",
    "#textfiles"
   ]
  },
  {
   "source": [
    "For the finishing touches, let's visualize the data. We'll use a more readable, histograph version of venn diagrams, the upsetplot. Then we will use matplotlib's pyplot() function to actually display the plot in the Jupyter notebook cell.\n",
    "\n",
    "To install upsetplot, open your terminal window and paste/execute the following line of code:\n",
    "```conda install -c conda-forge upsetplot```\n",
    "\n",
    "Documentation here: https://pypi.org/project/UpSetPlot/\n"
   ],
   "cell_type": "markdown",
   "metadata": {}
  },
  {
   "cell_type": "code",
   "execution_count": null,
   "metadata": {},
   "outputs": [],
   "source": [
    "from upsetplot import from_memberships, plot\n",
    "from matplotlib import pyplot as plt\n",
    "#Make sure the matplotlib output is displayed in jupyter notebook\n",
    "%matplotlib inline\n",
    "\n",
    "#Set the names for your two lists to compare along with the title of your final plot\n",
    "genbank_name=\"\"\n",
    "vipr_name=\"\"\n",
    "plot_title=\"\"\n",
    "\n",
    "upset_data = from_memberships(\n",
    "    [[genbank_name], #This label corresponds to elements unique to genbank ID list\n",
    "    [vipr_name], #This label corresponds to elements unique to vipr ID list\n",
    "    [genbank_name,vipr_name], #This label corresponds to elements common to both lists\n",
    "    ],\n",
    "    data=[len(unique_to_genbank),len(unique_to_vipr),len(shared)] #calling back the lists you generated earlier, use len() to set the lengths of the histograms to be displayed at each of the membership labels above.\n",
    ")\n",
    "\n",
    "#Note: The upset_data format was line-separated to make it easier to comment.\n",
    "#The following command is identical:\n",
    "#set_data = from_memberships([[genbank_name],[vipr_name],[genbank_name,vipr_name],],data=[len(unique_to_genbank),len(unique_to_vipr),len(shared)])\n",
    "\n",
    "#Plot the data\n",
    "plot(upset_data)\n",
    "plt.suptitle('{0}'.format(plot_title))\n",
    "plt.show()"
   ]
  },
  {
   "source": [
    "Congrats, you have now compared two ID lists from two fasta files of different origins."
   ],
   "cell_type": "markdown",
   "metadata": {}
  }
 ]
}